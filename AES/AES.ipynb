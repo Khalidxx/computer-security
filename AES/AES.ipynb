{
 "cells": [
  {
   "cell_type": "code",
   "execution_count": 1,
   "metadata": {},
   "outputs": [
    {
     "name": "stdout",
     "output_type": "stream",
     "text": [
      "Pixiedust database opened successfully\n"
     ]
    },
    {
     "data": {
      "text/html": [
       "\n",
       "        <div style=\"margin:10px\">\n",
       "            <a href=\"https://github.com/ibm-watson-data-lab/pixiedust\" target=\"_new\">\n",
       "                <img src=\"https://github.com/ibm-watson-data-lab/pixiedust/raw/master/docs/_static/pd_icon32.png\" style=\"float:left;margin-right:10px\"/>\n",
       "            </a>\n",
       "            <span>Pixiedust version 1.1.17</span>\n",
       "        </div>\n",
       "        "
      ],
      "text/plain": [
       "<IPython.core.display.HTML object>"
      ]
     },
     "metadata": {},
     "output_type": "display_data"
    }
   ],
   "source": [
    "import numpy as np\n",
    "import pixiedust\n",
    "\n",
    "# set print option for numpy to print all int as hex\n",
    "np.set_printoptions(formatter={'int':hex})"
   ]
  },
  {
   "cell_type": "code",
   "execution_count": 5,
   "metadata": {},
   "outputs": [
    {
     "name": "stdout",
     "output_type": "stream",
     "text": [
      "[[0x97 0xae 0x67 0xf1]\n",
      " [0x1 0x2 0x3 0x4b]\n",
      " [0x20 0x74 0xad 0x26]\n",
      " [0xe 0x11 0x2a 0x69]]\n"
     ]
    }
   ],
   "source": [
    "sub_byte = np.array([[0x63, 0x7c, 0x77, 0x7b, 0xf2, 0x6b, 0x6f, 0xc5, 0x30, 0x01, 0x67, 0x2b, 0xfe, 0xd7, 0xab, 0x76],\n",
    "                    [0xca, 0x82, 0xc9, 0x7d, 0xfa, 0x59, 0x47, 0xf0, 0xad, 0xd4, 0xa2, 0xaf, 0x9c, 0xa4, 0x72, 0xc0],\n",
    "                    [0xB7, 0xFD, 0x93, 0x26, 0x36, 0x3F, 0xF7, 0xCC, 0x34, 0xA5, 0xE5, 0xF1, 0x71, 0xD8, 0x31, 0x15],\n",
    "                    [0x04, 0xC7, 0x23, 0xC3, 0x18, 0x96, 0x05, 0x9A, 0x07, 0x12, 0x80, 0xE2, 0xEB, 0x27, 0xB2, 0x75],\n",
    "                    [0x09, 0x83, 0x2C, 0x1A, 0x1B, 0x6E, 0x5A, 0xA0, 0x52, 0x3B, 0xD6, 0xB3, 0x29, 0xE3, 0x2F, 0x84],\n",
    "                    [0x53, 0xD1, 0x00, 0xED, 0x20, 0xFC, 0xB1, 0x5B, 0x6A, 0xCB, 0xBE, 0x39, 0x4A, 0x4C, 0x58, 0xCF],\n",
    "                    [0xD0, 0xEF, 0xAA, 0xFB, 0x43, 0x4D, 0x33, 0x85, 0x45, 0xF9, 0x02, 0x7F, 0x50, 0x3C, 0x9F, 0xA8],\n",
    "                    [0x51, 0xA3, 0x40, 0x8F, 0x92, 0x9D, 0x38, 0xF5, 0xBC, 0xB6, 0xDA, 0x21, 0x10, 0xFF, 0xF3, 0xD2],\n",
    "                    [0xCD, 0x0C, 0x13, 0xEC, 0x5F, 0x97, 0x44, 0x17, 0xC4, 0xA7, 0x7E, 0x3D, 0x64, 0x5D, 0x19, 0x73],\n",
    "                    [0x60, 0x81, 0x4F, 0xDC, 0x22, 0x2A, 0x90, 0x88, 0x46, 0xEE, 0xB8, 0x14, 0xDE, 0x5E, 0x0B, 0xDB],\n",
    "                    [0xE0, 0x32, 0x3A, 0x0A, 0x49, 0x06, 0x24, 0x5C, 0xC2, 0xD3, 0xAC, 0x62, 0x91, 0x95, 0xE4, 0x79],\n",
    "                    [0xE7, 0xCB, 0x37, 0x6D, 0x8D, 0xD5, 0x4E, 0xA9, 0x6C, 0x56, 0xF4, 0xEA, 0x65, 0x7A, 0xAE, 0x08],\n",
    "                    [0xBA, 0x78, 0x25, 0x2E, 0x1C, 0xA6, 0xB4, 0xC6, 0xE8, 0xDD, 0x74, 0x1F, 0x4B, 0xBD, 0x8B, 0x8A],\n",
    "                    [0x70, 0x3E, 0xB5, 0x66, 0x48, 0x03, 0xF6, 0x0E, 0x61, 0x35, 0x57, 0xB9, 0x86, 0xC1, 0x1D, 0x9E],\n",
    "                    [0xE1, 0xF8, 0x98, 0x11, 0x69, 0xD9, 0x8E, 0x94, 0x9B, 0x1E, 0x87, 0xE9, 0xCE, 0x55, 0x28, 0xDF],\n",
    "                    [0x8C, 0xA1, 0x89, 0x0D, 0xBF, 0xE6, 0x42, 0x68, 0x41, 0x99, 0x2D, 0x0F, 0xB0, 0x54, 0xBB, 0x16]])\n",
    "\n",
    "# print(sub_byte)\n",
    "# print(int(sub_byte[3,0] % 0x10))\n",
    "\n",
    "mix_const = np.array([[0x02, 0x03, 0x01, 0x01],\n",
    "                     [0x01, 0x02, 0x03, 0x01],\n",
    "                     [0x01, 0x01, 0x02, 0x03],\n",
    "                     [0x03, 0x01, 0x01, 0x02]])\n",
    "\n",
    "inv_mix = np.array([[0x0E, 0x0B, 0x0D, 0x09],\n",
    "                     [0x09, 0x0E, 0x0B, 0x0D],\n",
    "                     [0x0D, 0x09, 0x0E, 0x0B],\n",
    "                     [0x0B, 0x0D, 0x09, 0x0E]])\n",
    "\n",
    "# print(inv_mix)\n",
    "\n",
    "key = np.array([[0x97, 0x0AE, 0x67, 0xf1],\n",
    "                 [0x01, 0x02, 0x03, 0x4B],\n",
    "                 [0x20, 0x74, 0xAD, 0x26],\n",
    "                 [0x0E, 0x11, 0x2A, 0x69]])\n",
    "\n",
    "RCon = np.array([[0x01, 0x00, 0x00, 0x00],\n",
    "                [0x02, 0x00, 0x00, 0x00],\n",
    "                [0x04, 0x00, 0x00, 0x00],\n",
    "                [0x08, 0x00, 0x00, 0x00],\n",
    "                [0x10, 0x00, 0x00, 0x00],\n",
    "                [0x20, 0x00, 0x00, 0x00],\n",
    "                [0x40, 0x00, 0x00, 0x00],\n",
    "                [0x80, 0x00, 0x00, 0x00],\n",
    "                [0x1B, 0x00, 0x00, 0x00],\n",
    "                [0x36, 0x00, 0x00, 0x00]])\n",
    "round_key = key\n",
    "print(round_key)"
   ]
  },
  {
   "cell_type": "code",
   "execution_count": 11,
   "metadata": {},
   "outputs": [
    {
     "name": "stdout",
     "output_type": "stream",
     "text": [
      "KILLFATARTSYCUNT\n",
      "[[0xa 0x5 0x11 0x2]\n",
      " [0x8 0x0 0x13 0x14]\n",
      " [0xb 0x13 0x12 0xd]\n",
      " [0xb 0x0 0x18 0x13]]\n"
     ]
    }
   ],
   "source": [
    "plain_text = \"kill 123 fat artsy 458 cunt\" # input(\"Enter message: \")\n",
    "pdc = \"x\"\n",
    "\n",
    "plain_text = plain_text.upper()\n",
    "\n",
    "# Initial state matrix\n",
    "state = np.empty([4, 4],  dtype=int)\n",
    "\n",
    "\n",
    "# Remove spaces and other characters to shorten Plain Text\n",
    "short_text = ''\n",
    "for c in plain_text:\n",
    "    if ord(c) >= 65 and ord(c) <= 90:\n",
    "        short_text += c\n",
    "        \n",
    "# Add padding if necessery\n",
    "msg_length = len(short_text)\n",
    "for i in range(16 - msg_length):\n",
    "    short_text += pdc.upper()\n",
    "\n",
    "print(short_text)\n",
    "    \n",
    "# Convert the plain text to the initial state matrix\n",
    "rows = state.shape[0]\n",
    "cols = state.shape[1]\n",
    "\n",
    "for i in range(rows):\n",
    "    for j in range(cols):\n",
    "        state[j][i] = ord(short_text[i * rows + j]) - 65\n",
    "\n",
    "print(state)\n",
    "\n"
   ]
  },
  {
   "cell_type": "code",
   "execution_count": 23,
   "metadata": {},
   "outputs": [
    {
     "name": "stdout",
     "output_type": "stream",
     "text": [
      "[[0xf0 0xc5 0xe5 0x86]\n",
      " [0x31 0x61 0x7e 0xb1]\n",
      " [0xb 0x9 0x64 0xf1]\n",
      " [0x25 0x72 0x87 0x14]]\n"
     ]
    }
   ],
   "source": [
    "# 0. Add  pre-round key\n",
    "\n",
    "state = np.bitwise_xor(state, key)\n",
    "\n",
    "print(state)\n"
   ]
  },
  {
   "cell_type": "code",
   "execution_count": 24,
   "metadata": {},
   "outputs": [
    {
     "name": "stdout",
     "output_type": "stream",
     "text": [
      "[[0x8c 0xa6 0xd9 0x44]\n",
      " [0xc7 0xef 0xf3 0xcb]\n",
      " [0x2b 0x1 0x43 0xa1]\n",
      " [0x3f 0x40 0x17 0xfa]]\n"
     ]
    }
   ],
   "source": [
    "# 1. SubByte\n",
    "\n",
    "for i in range(rows):\n",
    "    for j in range(cols):\n",
    "        x = state[i,j] % 0x10\n",
    "        y = int(state[i,j] / 0x10)\n",
    "        state[i][j] = sub_byte[y, x]\n",
    "\n",
    "print(state)\n"
   ]
  },
  {
   "cell_type": "code",
   "execution_count": 25,
   "metadata": {},
   "outputs": [
    {
     "name": "stdout",
     "output_type": "stream",
     "text": [
      "[[0x8c 0xa6 0xd9 0x44]\n",
      " [0xef 0xf3 0xcb 0xc7]\n",
      " [0x43 0xa1 0x2b 0x1]\n",
      " [0xfa 0x3f 0x40 0x17]]\n"
     ]
    }
   ],
   "source": [
    "# 2. Shift rows\n",
    "\n",
    "shifted = np.empty([rows, cols],  dtype=int)\n",
    "\n",
    "for i in range(rows):\n",
    "    for j in range(cols):\n",
    "        shifted[i, j] = state[i, (j + i) % cols]\n",
    "        \n",
    "print(shifted)"
   ]
  },
  {
   "cell_type": "code",
   "execution_count": 26,
   "metadata": {},
   "outputs": [
    {
     "name": "stdout",
     "output_type": "stream",
     "text": [
      "[[0x27 0xa 0x82 0xf7]\n",
      " [0x31 0xb2 0x33 0xed]\n",
      " [0xf3 0x9b 0xbc 0x53]\n",
      " [0xce 0x8 0x5 0xc3]]\n"
     ]
    }
   ],
   "source": [
    "# 3. Mix columns\n",
    "\n",
    "mixed = np.matmul(mix_const, shifted) % 0xff\n",
    "\n",
    "print(mixed)"
   ]
  },
  {
   "cell_type": "code",
   "execution_count": 28,
   "metadata": {},
   "outputs": [
    {
     "name": "stdout",
     "output_type": "stream",
     "text": [
      "[[0xaf 0xa1 0xdc 0x78]\n",
      " [0x7e 0xcd 0x48 0x57]\n",
      " [0x12 0x13 0x5a 0xb5]\n",
      " [0xc4 0xe7 0xcd 0x81]]\n"
     ]
    }
   ],
   "source": [
    "# 4. Add round key\n",
    "\n",
    "# Rotate key\n",
    "temp = round_key.transpose()[cols-1]\n",
    "t = np.empty(cols, dtype=int)\n",
    "\n",
    "for i in range(cols):\n",
    "    t[i] = temp[(i + 1) % cols]\n",
    "\n",
    "# SubByte key\n",
    "for i in range(cols):\n",
    "    x = t[i] % 0x10\n",
    "    y = int(t[i] / 0x10)\n",
    "    t[i] = sub_byte[y, x]\n",
    "    \n",
    "# X-OR with RCon\n",
    "RCon = np.array([0x01, 0x00, 0x00, 0x00])\n",
    "t = np.bitwise_xor(t, RCon)\n",
    "\n",
    "# X-OR t and words from previous key\n",
    "current_key = np.empty([rows, cols], dtype=int)\n",
    "current_key[0] = np.bitwise_xor(t, round_key.transpose()[0])\n",
    "for i in range(1, cols):\n",
    "    current_key[i] = np.bitwise_xor(current_key[i-1], round_key.transpose()[i])\n",
    "\n",
    "round_key = np.array(current_key.transpose())\n",
    "\n",
    "# Add roundKey to state\n",
    "\n",
    "state = np.bitwise_xor(state, round_key)\n",
    "\n",
    "print(state)"
   ]
  },
  {
   "cell_type": "code",
   "execution_count": 83,
   "metadata": {
    "pixiedust": {
     "displayParams": {}
    }
   },
   "outputs": [],
   "source": [
    "def encrypt(plain_text, key, pdc='x', subByte = None, mix_const=None, RCon=None):\n",
    "    if(subByte is None): \n",
    "        sub_byte = np.array([[0x63, 0x7c, 0x77, 0x7b, 0xf2, 0x6b, 0x6f, 0xc5, 0x30, 0x01, 0x67, 0x2b, 0xfe, 0xd7, 0xab, 0x76],\n",
    "                            [0xca, 0x82, 0xc9, 0x7d, 0xfa, 0x59, 0x47, 0xf0, 0xad, 0xd4, 0xa2, 0xaf, 0x9c, 0xa4, 0x72, 0xc0],\n",
    "                            [0xB7, 0xFD, 0x93, 0x26, 0x36, 0x3F, 0xF7, 0xCC, 0x34, 0xA5, 0xE5, 0xF1, 0x71, 0xD8, 0x31, 0x15],\n",
    "                            [0x04, 0xC7, 0x23, 0xC3, 0x18, 0x96, 0x05, 0x9A, 0x07, 0x12, 0x80, 0xE2, 0xEB, 0x27, 0xB2, 0x75],\n",
    "                            [0x09, 0x83, 0x2C, 0x1A, 0x1B, 0x6E, 0x5A, 0xA0, 0x52, 0x3B, 0xD6, 0xB3, 0x29, 0xE3, 0x2F, 0x84],\n",
    "                            [0x53, 0xD1, 0x00, 0xED, 0x20, 0xFC, 0xB1, 0x5B, 0x6A, 0xCB, 0xBE, 0x39, 0x4A, 0x4C, 0x58, 0xCF],\n",
    "                            [0xD0, 0xEF, 0xAA, 0xFB, 0x43, 0x4D, 0x33, 0x85, 0x45, 0xF9, 0x02, 0x7F, 0x50, 0x3C, 0x9F, 0xA8],\n",
    "                            [0x51, 0xA3, 0x40, 0x8F, 0x92, 0x9D, 0x38, 0xF5, 0xBC, 0xB6, 0xDA, 0x21, 0x10, 0xFF, 0xF3, 0xD2],\n",
    "                            [0xCD, 0x0C, 0x13, 0xEC, 0x5F, 0x97, 0x44, 0x17, 0xC4, 0xA7, 0x7E, 0x3D, 0x64, 0x5D, 0x19, 0x73],\n",
    "                            [0x60, 0x81, 0x4F, 0xDC, 0x22, 0x2A, 0x90, 0x88, 0x46, 0xEE, 0xB8, 0x14, 0xDE, 0x5E, 0x0B, 0xDB],\n",
    "                            [0xE0, 0x32, 0x3A, 0x0A, 0x49, 0x06, 0x24, 0x5C, 0xC2, 0xD3, 0xAC, 0x62, 0x91, 0x95, 0xE4, 0x79],\n",
    "                            [0xE7, 0xCB, 0x37, 0x6D, 0x8D, 0xD5, 0x4E, 0xA9, 0x6C, 0x56, 0xF4, 0xEA, 0x65, 0x7A, 0xAE, 0x08],\n",
    "                            [0xBA, 0x78, 0x25, 0x2E, 0x1C, 0xA6, 0xB4, 0xC6, 0xE8, 0xDD, 0x74, 0x1F, 0x4B, 0xBD, 0x8B, 0x8A],\n",
    "                            [0x70, 0x3E, 0xB5, 0x66, 0x48, 0x03, 0xF6, 0x0E, 0x61, 0x35, 0x57, 0xB9, 0x86, 0xC1, 0x1D, 0x9E],\n",
    "                            [0xE1, 0xF8, 0x98, 0x11, 0x69, 0xD9, 0x8E, 0x94, 0x9B, 0x1E, 0x87, 0xE9, 0xCE, 0x55, 0x28, 0xDF],\n",
    "                            [0x8C, 0xA1, 0x89, 0x0D, 0xBF, 0xE6, 0x42, 0x68, 0x41, 0x99, 0x2D, 0x0F, 0xB0, 0x54, 0xBB, 0x16]])\n",
    "    if(mix_const is None):\n",
    "        mix_const = np.array([[0x02, 0x03, 0x01, 0x01],\n",
    "                             [0x01, 0x02, 0x03, 0x01],\n",
    "                             [0x01, 0x01, 0x02, 0x03],\n",
    "                             [0x03, 0x01, 0x01, 0x02]])\n",
    "    \n",
    "    if(RCon is None):\n",
    "        RCon = np.array([[0x01, 0x00, 0x00, 0x00],\n",
    "                        [0x02, 0x00, 0x00, 0x00],\n",
    "                        [0x04, 0x00, 0x00, 0x00],\n",
    "                        [0x08, 0x00, 0x00, 0x00],\n",
    "                        [0x10, 0x00, 0x00, 0x00],\n",
    "                        [0x20, 0x00, 0x00, 0x00],\n",
    "                        [0x40, 0x00, 0x00, 0x00],\n",
    "                        [0x80, 0x00, 0x00, 0x00],\n",
    "                        [0x1B, 0x00, 0x00, 0x00],\n",
    "                        [0x36, 0x00, 0x00, 0x00]])\n",
    "    round_key = key\n",
    "    plain_text = plain_text.upper()\n",
    "\n",
    "    # Initial state matrix\n",
    "    state = np.empty([4, 4],  dtype=int)\n",
    "\n",
    "\n",
    "    # Remove spaces and other characters to shorten Plain Text\n",
    "    short_text = ''\n",
    "    for c in plain_text:\n",
    "        if ord(c) >= 65 and ord(c) <= 90:\n",
    "            short_text += c\n",
    "\n",
    "    # Add padding if necessery\n",
    "    msg_length = len(short_text)\n",
    "    for i in range(16 - msg_length):\n",
    "        short_text += pdc.upper()\n",
    "\n",
    "    # Convert the plain text to the initial state matrix\n",
    "    rows = state.shape[0]\n",
    "    cols = state.shape[1]\n",
    "\n",
    "    for i in range(rows):\n",
    "        for j in range(cols):\n",
    "            state[j][i] = ord(short_text[i * rows + j])\n",
    "\n",
    "\n",
    "    # 0. Add  pre-round key\n",
    "\n",
    "    state = np.bitwise_xor(state, key)\n",
    "\n",
    "    for round_no in range(10):\n",
    "        # 1. SubByte\n",
    "\n",
    "        for i in range(rows):\n",
    "            for j in range(cols):\n",
    "                x = state[i,j] % 0x10\n",
    "                y = int(state[i,j] / 0x10)\n",
    "                state[i][j] = sub_byte[y, x]\n",
    "\n",
    "\n",
    "        # 2. Shift rows\n",
    "\n",
    "        shifted = np.empty([rows, cols],  dtype=int)\n",
    "\n",
    "        for i in range(rows):\n",
    "            for j in range(cols):\n",
    "                shifted[i, j] = state[i, (j + i) % cols]\n",
    "\n",
    "        # 3. Mix columns\n",
    "        if round_no < 9:\n",
    "            mixed = np.matmul(mix_const, shifted) % 0xff\n",
    "\n",
    "\n",
    "        # 4. Add round key\n",
    "\n",
    "        # Rotate key\n",
    "        temp = round_key.transpose()[cols-1]\n",
    "        t = np.empty(cols, dtype=int)\n",
    "\n",
    "        for i in range(cols):\n",
    "            t[i] = temp[(i + 1) % cols]\n",
    "        # SubByte key\n",
    "        for i in range(cols):\n",
    "            x = t[i] % 0x10\n",
    "            y = int(t[i] / 0x10)\n",
    "            t[i] = sub_byte[y, x]\n",
    "\n",
    "        # X-OR with RCon\n",
    "        t = np.bitwise_xor(t, RCon[round_no])\n",
    "\n",
    "        # X-OR t and words from previous key\n",
    "        current_key = np.empty([rows, cols], dtype=int)\n",
    "        current_key[0] = np.bitwise_xor(t, round_key.transpose()[0])\n",
    "        for i in range(1, cols):\n",
    "            current_key[i] = np.bitwise_xor(current_key[i-1], round_key.transpose()[i])\n",
    "\n",
    "        round_key = np.array(current_key.transpose())\n",
    "\n",
    "        # Add roundKey to state\n",
    "        final_state = np.bitwise_xor(mixed, round_key)\n",
    "\n",
    "    return final_state.flatten('F')"
   ]
  },
  {
   "cell_type": "code",
   "execution_count": 84,
   "metadata": {},
   "outputs": [
    {
     "name": "stdout",
     "output_type": "stream",
     "text": [
      "[0x18 0x70 0xd1 0x3f 0x69 0x2f 0x3c 0x58 0x73 0x7a 0xa 0x61 0x4d 0xa8 0x78\n",
      " 0x10]\n"
     ]
    }
   ],
   "source": [
    "plain_text = \"kill 123 fat artsy 458 cunt\" # input(\"Enter message: \")\n",
    "key = np.array([[0x97, 0x0AE, 0x67, 0xf1],\n",
    "                 [0x01, 0x02, 0x03, 0x4B],\n",
    "                 [0x20, 0x74, 0xAD, 0x26],\n",
    "                 [0x0E, 0x11, 0x2A, 0x69]])\n",
    "cipher = encrypt(plain_text, key, mix_const=key)\n",
    "print(cipher)"
   ]
  },
  {
   "cell_type": "code",
   "execution_count": 140,
   "metadata": {},
   "outputs": [],
   "source": [
    "def decrypt(cipher_text, key, subByte = None, inv_mix=None, RCon=None):\n",
    "    \n",
    "    if(subByte is None): \n",
    "        sub_byte = np.array([[0x63, 0x7c, 0x77, 0x7b, 0xf2, 0x6b, 0x6f, 0xc5, 0x30, 0x01, 0x67, 0x2b, 0xfe, 0xd7, 0xab, 0x76],\n",
    "                            [0xca, 0x82, 0xc9, 0x7d, 0xfa, 0x59, 0x47, 0xf0, 0xad, 0xd4, 0xa2, 0xaf, 0x9c, 0xa4, 0x72, 0xc0],\n",
    "                            [0xB7, 0xFD, 0x93, 0x26, 0x36, 0x3F, 0xF7, 0xCC, 0x34, 0xA5, 0xE5, 0xF1, 0x71, 0xD8, 0x31, 0x15],\n",
    "                            [0x04, 0xC7, 0x23, 0xC3, 0x18, 0x96, 0x05, 0x9A, 0x07, 0x12, 0x80, 0xE2, 0xEB, 0x27, 0xB2, 0x75],\n",
    "                            [0x09, 0x83, 0x2C, 0x1A, 0x1B, 0x6E, 0x5A, 0xA0, 0x52, 0x3B, 0xD6, 0xB3, 0x29, 0xE3, 0x2F, 0x84],\n",
    "                            [0x53, 0xD1, 0x00, 0xED, 0x20, 0xFC, 0xB1, 0x5B, 0x6A, 0xCB, 0xBE, 0x39, 0x4A, 0x4C, 0x58, 0xCF],\n",
    "                            [0xD0, 0xEF, 0xAA, 0xFB, 0x43, 0x4D, 0x33, 0x85, 0x45, 0xF9, 0x02, 0x7F, 0x50, 0x3C, 0x9F, 0xA8],\n",
    "                            [0x51, 0xA3, 0x40, 0x8F, 0x92, 0x9D, 0x38, 0xF5, 0xBC, 0xB6, 0xDA, 0x21, 0x10, 0xFF, 0xF3, 0xD2],\n",
    "                            [0xCD, 0x0C, 0x13, 0xEC, 0x5F, 0x97, 0x44, 0x17, 0xC4, 0xA7, 0x7E, 0x3D, 0x64, 0x5D, 0x19, 0x73],\n",
    "                            [0x60, 0x81, 0x4F, 0xDC, 0x22, 0x2A, 0x90, 0x88, 0x46, 0xEE, 0xB8, 0x14, 0xDE, 0x5E, 0x0B, 0xDB],\n",
    "                            [0xE0, 0x32, 0x3A, 0x0A, 0x49, 0x06, 0x24, 0x5C, 0xC2, 0xD3, 0xAC, 0x62, 0x91, 0x95, 0xE4, 0x79],\n",
    "                            [0xE7, 0xCB, 0x37, 0x6D, 0x8D, 0xD5, 0x4E, 0xA9, 0x6C, 0x56, 0xF4, 0xEA, 0x65, 0x7A, 0xAE, 0x08],\n",
    "                            [0xBA, 0x78, 0x25, 0x2E, 0x1C, 0xA6, 0xB4, 0xC6, 0xE8, 0xDD, 0x74, 0x1F, 0x4B, 0xBD, 0x8B, 0x8A],\n",
    "                            [0x70, 0x3E, 0xB5, 0x66, 0x48, 0x03, 0xF6, 0x0E, 0x61, 0x35, 0x57, 0xB9, 0x86, 0xC1, 0x1D, 0x9E],\n",
    "                            [0xE1, 0xF8, 0x98, 0x11, 0x69, 0xD9, 0x8E, 0x94, 0x9B, 0x1E, 0x87, 0xE9, 0xCE, 0x55, 0x28, 0xDF],\n",
    "                            [0x8C, 0xA1, 0x89, 0x0D, 0xBF, 0xE6, 0x42, 0x68, 0x41, 0x99, 0x2D, 0x0F, 0xB0, 0x54, 0xBB, 0x16]])\n",
    "    if(inv_mix is None):\n",
    "        inv_mix = np.array([[0x0E, 0x0B, 0x0D, 0x09],\n",
    "                             [0x09, 0x0E, 0x0B, 0x0D],\n",
    "                             [0x0D, 0x09, 0x0E, 0x0B],\n",
    "                             [0x0B, 0x0D, 0x09, 0x0E]])\n",
    "\n",
    "    \n",
    "    if(RCon is None):\n",
    "        RCon = np.array([[0x01, 0x00, 0x00, 0x00],\n",
    "                        [0x02, 0x00, 0x00, 0x00],\n",
    "                        [0x04, 0x00, 0x00, 0x00],\n",
    "                        [0x08, 0x00, 0x00, 0x00],\n",
    "                        [0x10, 0x00, 0x00, 0x00],\n",
    "                        [0x20, 0x00, 0x00, 0x00],\n",
    "                        [0x40, 0x00, 0x00, 0x00],\n",
    "                        [0x80, 0x00, 0x00, 0x00],\n",
    "                        [0x1B, 0x00, 0x00, 0x00],\n",
    "                        [0x36, 0x00, 0x00, 0x00]])\n",
    "    \n",
    "    # convert cipher text to state\n",
    "    state = np.empty([4, 4],  dtype=int)\n",
    "    \n",
    "    rows = state.shape[0]\n",
    "    cols = state.shape[1]\n",
    "\n",
    "    for i in range(rows):\n",
    "        for j in range(cols):\n",
    "            state[j][i] = cipher_text[i*cols + j]\n",
    "    \n",
    "    # create Round Key\n",
    "    round_key = np.empty([11, 4, 4], dtype=int)\n",
    "    round_key[0] = key\n",
    "    \n",
    "    for round_n in range(1, 11):\n",
    "        # Rotate key\n",
    "        temp = round_key[round_n-1].transpose()[cols-1]\n",
    "        t = np.empty(cols, dtype=int)\n",
    "\n",
    "        for i in range(cols):\n",
    "            t[i] = temp[(i + 1) % cols]\n",
    "        # SubByte key\n",
    "        for i in range(cols):\n",
    "            x = t[i] % 0x10\n",
    "            y = int(t[i] / 0x10)\n",
    "            t[i] = sub_byte[y, x]\n",
    "\n",
    "        # X-OR with RCon\n",
    "        t = np.bitwise_xor(t, RCon[round_n-1])\n",
    "        # X-OR t and words from previous key\n",
    "        current_key = np.empty([rows, cols], dtype=int)\n",
    "        current_key[0] = np.bitwise_xor(t, round_key[round_n-1].transpose()[0])\n",
    "        for i in range(1, cols):\n",
    "            current_key[i] = np.bitwise_xor(current_key[i-1], round_key[round_n-1].transpose()[i])\n",
    "\n",
    "        round_key[round_n] = np.array(current_key.transpose())\n",
    "        \n",
    "    # 0. Add initial Round Key\n",
    "    state = np.bitwise_xor(state, round_key[10])\n",
    "    \n",
    "    for round_n in range(10):\n",
    "        \n",
    "        # 1. Inverse shift rows\n",
    "        \n",
    "        state_1 = np.empty([rows, cols],  dtype=int)\n",
    "\n",
    "        for i in range(rows):\n",
    "            for j in range(cols):\n",
    "                state_1[rows-i-1, j] = state[rows-i-1, (j + i + 1) % cols]\n",
    "        \n",
    "        # 2. Inverse SubByte\n",
    "        \n",
    "        for i in range(rows):\n",
    "            for j in range(cols):\n",
    "                pos = np.where(sub_byte == state_1[i][j])\n",
    "                state_1[i][j] = pos[0][0] * 0x10 + pos[1][0]\n",
    "        \n",
    "        # 3. Add Round Key\n",
    "        \n",
    "        state_2 = np.bitwise_xor(state_1, round_key[9 - round_n])\n",
    "        \n",
    "        # 4. Inverse Mix Column\n",
    "        \n",
    "        if round_n < 9:\n",
    "            state_3 = np.matmul(inv_mix, state_2) % 0xff\n",
    "    \n",
    "    final_state = state_3.flatten('F')\n",
    "    \n",
    "    return final_state\n",
    "                \n",
    "    \n",
    "    "
   ]
  }
 ],
 "metadata": {
  "kernelspec": {
   "display_name": "Python 3",
   "language": "python",
   "name": "python3"
  },
  "language_info": {
   "codemirror_mode": {
    "name": "ipython",
    "version": 3
   },
   "file_extension": ".py",
   "mimetype": "text/x-python",
   "name": "python",
   "nbconvert_exporter": "python",
   "pygments_lexer": "ipython3",
   "version": "3.6.8"
  }
 },
 "nbformat": 4,
 "nbformat_minor": 2
}
